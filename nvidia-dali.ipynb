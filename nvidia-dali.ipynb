{
 "cells": [
  {
   "cell_type": "code",
   "execution_count": 1,
   "metadata": {},
   "outputs": [
    {
     "name": "stdout",
     "output_type": "stream",
     "text": [
      "Help on class Pipeline in module nvidia.dali.pipeline:\n",
      "\n",
      "class Pipeline(builtins.object)\n",
      " |  Pipeline(batch_size=-1, num_threads=-1, device_id=-1, seed=-1, exec_pipelined=True, prefetch_queue_depth=2, exec_async=True, bytes_per_sample=0, set_affinity=False, max_streams=-1, default_cuda_stream_priority=0)\n",
      " |  \n",
      " |  Pipeline class encapsulates all data required to define and run\n",
      " |  DALI input pipeline.\n",
      " |  \n",
      " |  Parameters\n",
      " |  ----------\n",
      " |  `batch_size` : int, optional, default = -1\n",
      " |      Batch size of the pipeline. Negative values for this parameter\n",
      " |      are invalid - the default value may only be used with\n",
      " |      serialized pipeline (the value stored in serialized pipeline\n",
      " |      is used instead).\n",
      " |  `num_threads` : int, optional, default = -1\n",
      " |      Number of CPU threads used by the pipeline.\n",
      " |      Negative values for this parameter are invalid - the default\n",
      " |      value may only be used with serialized pipeline (the value\n",
      " |      stored in serialized pipeline is used instead).\n",
      " |  `device_id` : int, optional, default = -1\n",
      " |      Id of GPU used by the pipeline.\n",
      " |      Negative values for this parameter are invalid - the default\n",
      " |      value may only be used with serialized pipeline (the value\n",
      " |      stored in serialized pipeline is used instead).\n",
      " |  `seed` : int, optional, default = -1\n",
      " |      Seed used for random number generation. Leaving the default value\n",
      " |      for this parameter results in random seed.\n",
      " |  `exec_pipelined` : bool, optional, default = True\n",
      " |      Whether to execute the pipeline in a way that enables\n",
      " |      overlapping CPU and GPU computation, typically resulting\n",
      " |      in faster execution speed, but larger memory consumption.\n",
      " |  `exec_async` : bool, optional, default = True\n",
      " |      Whether to execute the pipeline asynchronously.\n",
      " |      This makes :meth:`nvidia.dali.pipeline.Pipeline.run` method\n",
      " |      run asynchronously with respect to the calling Python thread.\n",
      " |      In order to synchronize with the pipeline one needs to call\n",
      " |      :meth:`nvidia.dali.pipeline.Pipeline.outputs` method.\n",
      " |  `bytes_per_sample` : int, optional, default = 0\n",
      " |      A hint for DALI for how much memory to use for its tensors.\n",
      " |  `set_affinity` : bool, optional, default = False\n",
      " |      Whether to set CPU core affinity to the one closest to the\n",
      " |      GPU being used.\n",
      " |  `max_streams` : int, optional, default = -1\n",
      " |      Limit the number of CUDA streams used by the executor.\n",
      " |      Value of -1 does not impose a limit.\n",
      " |      This parameter is currently unused (and behavior of\n",
      " |      unrestricted number of streams is assumed).\n",
      " |  `prefetch_queue_depth` : int or {\"cpu_size\": int, \"gpu_size\": int}, optional, default = 2\n",
      " |      Depth of the executor pipeline. Deeper pipeline makes DALI\n",
      " |      more resistant to uneven execution time of each batch, but it\n",
      " |      also consumes more memory for internal buffers.\n",
      " |      Specifying a dict:\n",
      " |      ``{ \"cpu_size\": x, \"gpu_size\": y }``\n",
      " |      instead of integer will cause the pipeline to use separated\n",
      " |      queues executor, with buffer queue size `x` for cpu stage\n",
      " |      and `y` for mixed and gpu stages. It is not supported when both `exec_async`\n",
      " |      and `exec_pipelined` are set to `False`.\n",
      " |      Executor will buffer cpu and gpu stages separatelly,\n",
      " |      and will fill the buffer queues when the first :meth:`nvidia.dali.pipeline.Pipeline.run`\n",
      " |      is issued.\n",
      " |  \n",
      " |  Methods defined here:\n",
      " |  \n",
      " |  __init__(self, batch_size=-1, num_threads=-1, device_id=-1, seed=-1, exec_pipelined=True, prefetch_queue_depth=2, exec_async=True, bytes_per_sample=0, set_affinity=False, max_streams=-1, default_cuda_stream_priority=0)\n",
      " |      Initialize self.  See help(type(self)) for accurate signature.\n",
      " |  \n",
      " |  build(self)\n",
      " |      Build the pipeline.\n",
      " |      \n",
      " |      Pipeline needs to be built in order to run it standalone.\n",
      " |      Framework-specific plugins handle this step automatically.\n",
      " |  \n",
      " |  define_graph(self)\n",
      " |      This function is defined by the user to construct the\n",
      " |      graph of operations for their pipeline.\n",
      " |      \n",
      " |      It returns a list of output `EdgeReference`.\n",
      " |  \n",
      " |  deserialize_and_build(self, serialized_pipeline)\n",
      " |      Deserialize and build the pipeline given in serialized form.\n",
      " |      \n",
      " |      Parameters\n",
      " |      ----------\n",
      " |      serialized_pipeline : str\n",
      " |                            Serialized pipeline.\n",
      " |  \n",
      " |  epoch_size(self, name=None)\n",
      " |      Epoch size of a pipeline.\n",
      " |      \n",
      " |      If the `name` parameter is `None`, returns a dictionary of pairs\n",
      " |      `(reader name, epoch size for that reader)`.\n",
      " |      If the `name` parameter is not `None`, returns epoch size for that\n",
      " |      reader.\n",
      " |      \n",
      " |      Parameters\n",
      " |      ----------\n",
      " |      name : str, optional, default = None\n",
      " |          The reader which should be used to obtain epoch size.\n",
      " |  \n",
      " |  feed_input(self, ref, data)\n",
      " |      Bind the NumPy array to a tensor produced by ExternalSource\n",
      " |      operator. It is worth mentioning that `ref` should not be overriden\n",
      " |      with other operator outputs.\n",
      " |  \n",
      " |  iter_setup(self)\n",
      " |      This function can be overriden by user-defined\n",
      " |      pipeline to perform any needed setup for each iteration.\n",
      " |      For example, one can use this function to feed the input\n",
      " |      data from NumPy arrays.\n",
      " |  \n",
      " |  outputs(self)\n",
      " |      Returns the outputs of the pipeline and releases previous buffer.\n",
      " |      \n",
      " |      If the pipeline is executed asynchronously, this function blocks\n",
      " |      until the results become available. It rises StopIteration if data set\n",
      " |      reached its end - usually when iter_setup cannot produce any more data\n",
      " |  \n",
      " |  reset(self)\n",
      " |      Resets pipeline iterator\n",
      " |      \n",
      " |      If pipeline iterator reached the end then reset its state to the beginning.\n",
      " |  \n",
      " |  run(self)\n",
      " |      Run the pipeline and return the result.\n",
      " |      \n",
      " |      If the pipeline was created with `exec_pipelined` option set to `True`,\n",
      " |      this function will also start prefetching the next iteration for\n",
      " |      faster execution.\n",
      " |  \n",
      " |  save_graph_to_dot_file(self, filename)\n",
      " |      Saves the pipeline graph to a file.\n",
      " |      \n",
      " |      Parameters\n",
      " |      ----------\n",
      " |      filename : str\n",
      " |                 Name of the file to which the graph is written.\n",
      " |  \n",
      " |  serialize(self)\n",
      " |      Serialize the pipeline to a Protobuf string.\n",
      " |  \n",
      " |  ----------------------------------------------------------------------\n",
      " |  Data descriptors defined here:\n",
      " |  \n",
      " |  __dict__\n",
      " |      dictionary for instance variables (if defined)\n",
      " |  \n",
      " |  __weakref__\n",
      " |      list of weak references to the object (if defined)\n",
      " |  \n",
      " |  batch_size\n",
      " |      Batch size.\n",
      " |  \n",
      " |  device_id\n",
      " |      Id of the GPU used by the pipeline.\n",
      " |  \n",
      " |  num_threads\n",
      " |      Number of CPU threads used by the pipeline.\n",
      "\n"
     ]
    }
   ],
   "source": [
    "from nvidia.dali.pipeline import Pipeline\n",
    "help(Pipeline)"
   ]
  },
  {
   "cell_type": "code",
   "execution_count": 3,
   "metadata": {},
   "outputs": [],
   "source": [
    "import nvidia.dali.ops as ops\n",
    "import nvidia.dali.types as types\n",
    "\n",
    "class SimplePipeline(Pipeline):\n",
    "    def __init__(self, batch_size, num_threads, device_id):\n",
    "        super(SimplePipeline, self).__init__(batch_size, num_threads, device_id, seed = 12)\n",
    "        self.input = ops.FileReader(file_root = image_dir)\n",
    "        # instead of path to file directory file with pairs image_name image_label_value can be provided\n",
    "        # self.input = ops.FileReader(file_root = image_dir, file_list = image_dir + '/file_list.txt')\n",
    "        self.decode = ops.HostDecoder(output_type = types.RGB)\n",
    "\n",
    "    def define_graph(self):\n",
    "        jpegs, labels = self.input()\n",
    "        images = self.decode(jpegs)\n",
    "        return (images, labels)"
   ]
  },
  {
   "cell_type": "code",
   "execution_count": 7,
   "metadata": {},
   "outputs": [],
   "source": [
    "# config\n",
    "image_dir = \"./dataset/unetDataset/images\"\n",
    "batch_size = 8\n",
    "\n",
    "# get devices\n",
    "from tensorflow.python.client import device_lib\n",
    "local_device_protos = device_lib.list_local_devices()"
   ]
  },
  {
   "cell_type": "code",
   "execution_count": 9,
   "metadata": {},
   "outputs": [
    {
     "data": {
      "text/plain": [
       "['/device:GPU:0']"
      ]
     },
     "execution_count": 9,
     "metadata": {},
     "output_type": "execute_result"
    }
   ],
   "source": [
    "[x.name for x in local_device_protos if x.device_type == 'GPU']"
   ]
  },
  {
   "cell_type": "code",
   "execution_count": 16,
   "metadata": {},
   "outputs": [
    {
     "ename": "RuntimeError",
     "evalue": "[/opt/dali/dali/util/cuda_utils.h:69] CUDA runtime api error \"invalid device ordinal\"\nStacktrace (100 entries):\n[frame 0]: /usr/local/lib64/python3.7/site-packages/nvidia/dali/libdali.so(+0xa953e) [0x7f24bccf053e]\n[frame 1]: /usr/local/lib64/python3.7/site-packages/nvidia/dali/libdali.so(+0xf7e0f) [0x7f24bcd3ee0f]\n[frame 2]: /usr/local/lib64/python3.7/site-packages/nvidia/dali/libdali.so(dali::Pipeline::Init(int, int, int, long, bool, bool, bool, unsigned long, bool, int, int, dali::QueueSizes)+0x65) [0x7f24bce9cc55]\n[frame 3]: /usr/local/lib64/python3.7/site-packages/nvidia/dali/libdali.so(dali::Pipeline::Pipeline(std::string const&, int, int, int, bool, int, bool, unsigned long, bool, int, int)+0x28a) [0x7f24bce953aa]\n[frame 4]: /usr/local/lib64/python3.7/site-packages/nvidia/dali/backend_impl.cpython-37m-x86_64-linux-gnu.so(+0x71d65) [0x7f24dc120d65]\n[frame 5]: /usr/local/lib64/python3.7/site-packages/nvidia/dali/backend_impl.cpython-37m-x86_64-linux-gnu.so(+0x12ce1) [0x7f24dc0c1ce1]\n[frame 6]: /lib64/libpython3.7m.so.1.0(_PyMethodDef_RawFastCallDict+0x22d) [0x7f24f04e20ad]\n[frame 7]: /lib64/libpython3.7m.so.1.0(_PyCFunction_FastCallDict+0x23) [0x7f24f04e2283]\n[frame 8]: /lib64/libpython3.7m.so.1.0(_PyObject_Call_Prepend+0xd4) [0x7f24f04d4fe4]\n[frame 9]: /lib64/libpython3.7m.so.1.0(PyObject_Call+0x7e) [0x7f24f050f20e]\n[frame 10]: /lib64/libpython3.7m.so.1.0(+0x141718) [0x7f24f0520718]\n[frame 11]: /lib64/libpython3.7m.so.1.0(_PyObject_FastCallKeywords+0x117) [0x7f24f05220d7]\n[frame 12]: /lib64/libpython3.7m.so.1.0(+0x144869) [0x7f24f0523869]\n[frame 13]: /lib64/libpython3.7m.so.1.0(_PyEval_EvalFrameDefault+0x58f2) [0x7f24f0573d12]\n[frame 14]: /lib64/libpython3.7m.so.1.0(_PyFunction_FastCallKeywords+0x102) [0x7f24f050e412]\n[frame 15]: /lib64/libpython3.7m.so.1.0(+0x1446df) [0x7f24f05236df]\n[frame 16]: /lib64/libpython3.7m.so.1.0(_PyEval_EvalFrameDefault+0xc0e) [0x7f24f056f02e]\n[frame 17]: /lib64/libpython3.7m.so.1.0(_PyFunction_FastCallKeywords+0x102) [0x7f24f050e412]\n[frame 18]: /lib64/libpython3.7m.so.1.0(+0x1446df) [0x7f24f05236df]\n[frame 19]: /lib64/libpython3.7m.so.1.0(_PyEval_EvalFrameDefault+0xc0e) [0x7f24f056f02e]\n[frame 20]: /lib64/libpython3.7m.so.1.0(_PyEval_EvalCodeWithName+0x2f0) [0x7f24f050d420]\n[frame 21]: /lib64/libpython3.7m.so.1.0(PyEval_EvalCodeEx+0x39) [0x7f24f050e2e9]\n[frame 22]: /lib64/libpython3.7m.so.1.0(PyEval_EvalCode+0x1b) [0x7f24f050e30b]\n[frame 23]: /lib64/libpython3.7m.so.1.0(+0x189934) [0x7f24f0568934]\n[frame 24]: /lib64/libpython3.7m.so.1.0(_PyMethodDef_RawFastCallKeywords+0x78) [0x7f24f04e2458]\n[frame 25]: /lib64/libpython3.7m.so.1.0(_PyCFunction_FastCallKeywords+0x23) [0x7f24f04e2773]\n[frame 26]: /lib64/libpython3.7m.so.1.0(+0x1447f2) [0x7f24f05237f2]\n[frame 27]: /lib64/libpython3.7m.so.1.0(_PyEval_EvalFrameDefault+0xb6a) [0x7f24f056ef8a]\n[frame 28]: /lib64/libpython3.7m.so.1.0(_PyGen_Send+0x13f) [0x7f24f0522c3f]\n[frame 29]: /lib64/libpython3.7m.so.1.0(_PyEval_EvalFrameDefault+0x1e89) [0x7f24f05702a9]\n[frame 30]: /lib64/libpython3.7m.so.1.0(_PyGen_Send+0x13f) [0x7f24f0522c3f]\n[frame 31]: /lib64/libpython3.7m.so.1.0(_PyEval_EvalFrameDefault+0x1e89) [0x7f24f05702a9]\n[frame 32]: /lib64/libpython3.7m.so.1.0(_PyGen_Send+0x13f) [0x7f24f0522c3f]\n[frame 33]: /lib64/libpython3.7m.so.1.0(_PyMethodDef_RawFastCallKeywords+0x163) [0x7f24f04e2543]\n[frame 34]: /lib64/libpython3.7m.so.1.0(_PyMethodDescr_FastCallKeywords+0x4d) [0x7f24f052362d]\n[frame 35]: /lib64/libpython3.7m.so.1.0(+0x1447a0) [0x7f24f05237a0]\n[frame 36]: /lib64/libpython3.7m.so.1.0(_PyEval_EvalFrameDefault+0xc0e) [0x7f24f056f02e]\n[frame 37]: /lib64/libpython3.7m.so.1.0(_PyFunction_FastCallKeywords+0x102) [0x7f24f050e412]\n[frame 38]: /lib64/libpython3.7m.so.1.0(+0x1446df) [0x7f24f05236df]\n[frame 39]: /lib64/libpython3.7m.so.1.0(_PyEval_EvalFrameDefault+0xb6a) [0x7f24f056ef8a]\n[frame 40]: /lib64/libpython3.7m.so.1.0(_PyFunction_FastCallKeywords+0x102) [0x7f24f050e412]\n[frame 41]: /lib64/libpython3.7m.so.1.0(+0x1446df) [0x7f24f05236df]\n[frame 42]: /lib64/libpython3.7m.so.1.0(_PyEval_EvalFrameDefault+0xc0e) [0x7f24f056f02e]\n[frame 43]: /lib64/libpython3.7m.so.1.0(_PyEval_EvalCodeWithName+0x2f0) [0x7f24f050d420]\n[frame 44]: /lib64/libpython3.7m.so.1.0(_PyFunction_FastCallDict+0x2ee) [0x7f24f050ec4e]\n[frame 45]: /lib64/libpython3.7m.so.1.0(_PyObject_Call_Prepend+0x66) [0x7f24f04d4f76]\n[frame 46]: /lib64/libpython3.7m.so.1.0(PyObject_Call+0x7e) [0x7f24f050f20e]\n[frame 47]: /lib64/libpython3.7m.so.1.0(_PyEval_EvalFrameDefault+0x22e0) [0x7f24f0570700]\n[frame 48]: /lib64/libpython3.7m.so.1.0(_PyEval_EvalCodeWithName+0x2f0) [0x7f24f050d420]\n[frame 49]: /lib64/libpython3.7m.so.1.0(_PyFunction_FastCallKeywords+0x2a0) [0x7f24f050e5b0]\n[frame 50]: /lib64/libpython3.7m.so.1.0(+0x1446df) [0x7f24f05236df]\n[frame 51]: /lib64/libpython3.7m.so.1.0(_PyEval_EvalFrameDefault+0x18f9) [0x7f24f056fd19]\n[frame 52]: /lib64/libpython3.7m.so.1.0(+0x143825) [0x7f24f0522825]\n[frame 53]: /lib64/libpython3.7m.so.1.0(+0xfe345) [0x7f24f04dd345]\n[frame 54]: /lib64/libpython3.7m.so.1.0(_PyMethodDef_RawFastCallKeywords+0x78) [0x7f24f04e2458]\n[frame 55]: /lib64/libpython3.7m.so.1.0(_PyCFunction_FastCallKeywords+0x23) [0x7f24f04e2773]\n[frame 56]: /lib64/libpython3.7m.so.1.0(+0x1447f2) [0x7f24f05237f2]\n[frame 57]: /lib64/libpython3.7m.so.1.0(_PyEval_EvalFrameDefault+0xb6a) [0x7f24f056ef8a]\n[frame 58]: /lib64/libpython3.7m.so.1.0(_PyEval_EvalCodeWithName+0x2f0) [0x7f24f050d420]\n[frame 59]: /lib64/libpython3.7m.so.1.0(_PyFunction_FastCallKeywords+0x2a0) [0x7f24f050e5b0]\n[frame 60]: /lib64/libpython3.7m.so.1.0(+0x1446df) [0x7f24f05236df]\n[frame 61]: /lib64/libpython3.7m.so.1.0(_PyEval_EvalFrameDefault+0xc0e) [0x7f24f056f02e]\n[frame 62]: /lib64/libpython3.7m.so.1.0(+0x143825) [0x7f24f0522825]\n[frame 63]: /lib64/libpython3.7m.so.1.0(+0xfe345) [0x7f24f04dd345]\n[frame 64]: /lib64/libpython3.7m.so.1.0(_PyMethodDef_RawFastCallKeywords+0x78) [0x7f24f04e2458]\n[frame 65]: /lib64/libpython3.7m.so.1.0(_PyCFunction_FastCallKeywords+0x23) [0x7f24f04e2773]\n[frame 66]: /lib64/libpython3.7m.so.1.0(+0x1447f2) [0x7f24f05237f2]\n[frame 67]: /lib64/libpython3.7m.so.1.0(_PyEval_EvalFrameDefault+0xb6a) [0x7f24f056ef8a]\n[frame 68]: /lib64/libpython3.7m.so.1.0(_PyEval_EvalCodeWithName+0x2f0) [0x7f24f050d420]\n[frame 69]: /lib64/libpython3.7m.so.1.0(_PyFunction_FastCallKeywords+0x2a0) [0x7f24f050e5b0]\n[frame 70]: /lib64/libpython3.7m.so.1.0(+0x1446df) [0x7f24f05236df]\n[frame 71]: /lib64/libpython3.7m.so.1.0(_PyEval_EvalFrameDefault+0xb6a) [0x7f24f056ef8a]\n[frame 72]: /lib64/libpython3.7m.so.1.0(+0x143825) [0x7f24f0522825]\n[frame 73]: /lib64/libpython3.7m.so.1.0(+0xfe345) [0x7f24f04dd345]\n[frame 74]: /lib64/libpython3.7m.so.1.0(_PyMethodDef_RawFastCallKeywords+0x78) [0x7f24f04e2458]\n[frame 75]: /lib64/libpython3.7m.so.1.0(_PyCFunction_FastCallKeywords+0x23) [0x7f24f04e2773]\n[frame 76]: /lib64/libpython3.7m.so.1.0(+0x1447f2) [0x7f24f05237f2]\n[frame 77]: /lib64/libpython3.7m.so.1.0(_PyEval_EvalFrameDefault+0xb6a) [0x7f24f056ef8a]\n[frame 78]: /lib64/libpython3.7m.so.1.0(_PyEval_EvalCodeWithName+0x2f0) [0x7f24f050d420]\n[frame 79]: /lib64/libpython3.7m.so.1.0(_PyFunction_FastCallDict+0x2ee) [0x7f24f050ec4e]\n[frame 80]: /lib64/libpython3.7m.so.1.0(_PyObject_Call_Prepend+0x66) [0x7f24f04d4f76]\n[frame 81]: /lib64/libpython3.7m.so.1.0(PyObject_Call+0x7e) [0x7f24f050f20e]\n[frame 82]: /lib64/libpython3.7m.so.1.0(_PyEval_EvalFrameDefault+0x22e0) [0x7f24f0570700]\n[frame 83]: /lib64/libpython3.7m.so.1.0(_PyGen_Send+0x13f) [0x7f24f0522c3f]\n[frame 84]: /lib64/libpython3.7m.so.1.0(_PyMethodDef_RawFastCallKeywords+0x163) [0x7f24f04e2543]\n[frame 85]: /lib64/libpython3.7m.so.1.0(_PyMethodDescr_FastCallKeywords+0x4d) [0x7f24f052362d]\n[frame 86]: /lib64/libpython3.7m.so.1.0(+0x1447a0) [0x7f24f05237a0]\n[frame 87]: /lib64/libpython3.7m.so.1.0(_PyEval_EvalFrameDefault+0xc0e) [0x7f24f056f02e]\n[frame 88]: /lib64/libpython3.7m.so.1.0(_PyFunction_FastCallKeywords+0x102) [0x7f24f050e412]\n[frame 89]: /lib64/libpython3.7m.so.1.0(+0x1446df) [0x7f24f05236df]\n[frame 90]: /lib64/libpython3.7m.so.1.0(_PyEval_EvalFrameDefault+0xc0e) [0x7f24f056f02e]\n[frame 91]: /lib64/libpython3.7m.so.1.0(_PyEval_EvalCodeWithName+0x2f0) [0x7f24f050d420]\n[frame 92]: /lib64/libpython3.7m.so.1.0(_PyFunction_FastCallDict+0x2ee) [0x7f24f050ec4e]\n[frame 93]: /lib64/libpython3.7m.so.1.0(+0x206fbd) [0x7f24f05e5fbd]\n[frame 94]: /lib64/libpython3.7m.so.1.0(_PyObject_FastCallKeywords+0x4bc) [0x7f24f052247c]\n[frame 95]: /lib64/libpython3.7m.so.1.0(+0x144869) [0x7f24f0523869]\n[frame 96]: /lib64/libpython3.7m.so.1.0(_PyEval_EvalFrameDefault+0xb6a) [0x7f24f056ef8a]\n[frame 97]: /lib64/libpython3.7m.so.1.0(_PyFunction_FastCallKeywords+0x102) [0x7f24f050e412]\n[frame 98]: /lib64/libpython3.7m.so.1.0(+0x1446df) [0x7f24f05236df]\n[frame 99]: /lib64/libpython3.7m.so.1.0(_PyEval_EvalFrameDefault+0xc0e) [0x7f24f056f02e]\n",
     "output_type": "error",
     "traceback": [
      "\u001b[0;31m---------------------------------------------------------------------------\u001b[0m",
      "\u001b[0;31mRuntimeError\u001b[0m                              Traceback (most recent call last)",
      "\u001b[0;32m<ipython-input-16-3c1b0ab4f4b4>\u001b[0m in \u001b[0;36m<module>\u001b[0;34m\u001b[0m\n\u001b[1;32m      1\u001b[0m \u001b[0mpipe\u001b[0m \u001b[0;34m=\u001b[0m \u001b[0mSimplePipeline\u001b[0m\u001b[0;34m(\u001b[0m\u001b[0mimage_dir\u001b[0m\u001b[0;34m,\u001b[0m \u001b[0;36m1\u001b[0m\u001b[0;34m,\u001b[0m \u001b[0;36m0\u001b[0m\u001b[0;34m)\u001b[0m\u001b[0;34m\u001b[0m\u001b[0;34m\u001b[0m\u001b[0m\n\u001b[0;32m----> 2\u001b[0;31m \u001b[0mpipe\u001b[0m\u001b[0;34m.\u001b[0m\u001b[0mbuild\u001b[0m\u001b[0;34m(\u001b[0m\u001b[0;34m)\u001b[0m\u001b[0;34m\u001b[0m\u001b[0;34m\u001b[0m\u001b[0m\n\u001b[0m",
      "\u001b[0;32m/usr/local/lib64/python3.7/site-packages/nvidia/dali/pipeline.py\u001b[0m in \u001b[0;36mbuild\u001b[0;34m(self)\u001b[0m\n\u001b[1;32m    226\u001b[0m \u001b[0;34m\u001b[0m\u001b[0m\n\u001b[1;32m    227\u001b[0m         \u001b[0;32mif\u001b[0m \u001b[0;32mnot\u001b[0m \u001b[0mself\u001b[0m\u001b[0;34m.\u001b[0m\u001b[0m_prepared\u001b[0m\u001b[0;34m:\u001b[0m\u001b[0;34m\u001b[0m\u001b[0;34m\u001b[0m\u001b[0m\n\u001b[0;32m--> 228\u001b[0;31m             \u001b[0mself\u001b[0m\u001b[0;34m.\u001b[0m\u001b[0m_prepare_graph\u001b[0m\u001b[0;34m(\u001b[0m\u001b[0;34m)\u001b[0m\u001b[0;34m\u001b[0m\u001b[0;34m\u001b[0m\u001b[0m\n\u001b[0m\u001b[1;32m    229\u001b[0m \u001b[0;34m\u001b[0m\u001b[0m\n\u001b[1;32m    230\u001b[0m         \u001b[0mself\u001b[0m\u001b[0;34m.\u001b[0m\u001b[0m_pipe\u001b[0m\u001b[0;34m.\u001b[0m\u001b[0mBuild\u001b[0m\u001b[0;34m(\u001b[0m\u001b[0mself\u001b[0m\u001b[0;34m.\u001b[0m\u001b[0m_names_and_devices\u001b[0m\u001b[0;34m)\u001b[0m\u001b[0;34m\u001b[0m\u001b[0;34m\u001b[0m\u001b[0m\n",
      "\u001b[0;32m/usr/local/lib64/python3.7/site-packages/nvidia/dali/pipeline.py\u001b[0m in \u001b[0;36m_prepare_graph\u001b[0;34m(self)\u001b[0m\n\u001b[1;32m    157\u001b[0m                                 \u001b[0mself\u001b[0m\u001b[0;34m.\u001b[0m\u001b[0m_set_affinity\u001b[0m\u001b[0;34m,\u001b[0m\u001b[0;34m\u001b[0m\u001b[0;34m\u001b[0m\u001b[0m\n\u001b[1;32m    158\u001b[0m                                 \u001b[0mself\u001b[0m\u001b[0;34m.\u001b[0m\u001b[0m_max_streams\u001b[0m\u001b[0;34m,\u001b[0m\u001b[0;34m\u001b[0m\u001b[0;34m\u001b[0m\u001b[0m\n\u001b[0;32m--> 159\u001b[0;31m                                 self._default_cuda_stream_priority)\n\u001b[0m\u001b[1;32m    160\u001b[0m         \u001b[0mself\u001b[0m\u001b[0;34m.\u001b[0m\u001b[0m_pipe\u001b[0m\u001b[0;34m.\u001b[0m\u001b[0mSetExecutionTypes\u001b[0m\u001b[0;34m(\u001b[0m\u001b[0mself\u001b[0m\u001b[0;34m.\u001b[0m\u001b[0m_exec_pipelined\u001b[0m\u001b[0;34m,\u001b[0m \u001b[0mself\u001b[0m\u001b[0;34m.\u001b[0m\u001b[0m_exec_separated\u001b[0m\u001b[0;34m,\u001b[0m \u001b[0mself\u001b[0m\u001b[0;34m.\u001b[0m\u001b[0m_exec_async\u001b[0m\u001b[0;34m)\u001b[0m\u001b[0;34m\u001b[0m\u001b[0;34m\u001b[0m\u001b[0m\n\u001b[1;32m    161\u001b[0m         \u001b[0mself\u001b[0m\u001b[0;34m.\u001b[0m\u001b[0m_pipe\u001b[0m\u001b[0;34m.\u001b[0m\u001b[0mSetQueueSizes\u001b[0m\u001b[0;34m(\u001b[0m\u001b[0mself\u001b[0m\u001b[0;34m.\u001b[0m\u001b[0m_cpu_queue_size\u001b[0m\u001b[0;34m,\u001b[0m \u001b[0mself\u001b[0m\u001b[0;34m.\u001b[0m\u001b[0m_gpu_queue_size\u001b[0m\u001b[0;34m)\u001b[0m\u001b[0;34m\u001b[0m\u001b[0;34m\u001b[0m\u001b[0m\n",
      "\u001b[0;31mRuntimeError\u001b[0m: [/opt/dali/dali/util/cuda_utils.h:69] CUDA runtime api error \"invalid device ordinal\"\nStacktrace (100 entries):\n[frame 0]: /usr/local/lib64/python3.7/site-packages/nvidia/dali/libdali.so(+0xa953e) [0x7f24bccf053e]\n[frame 1]: /usr/local/lib64/python3.7/site-packages/nvidia/dali/libdali.so(+0xf7e0f) [0x7f24bcd3ee0f]\n[frame 2]: /usr/local/lib64/python3.7/site-packages/nvidia/dali/libdali.so(dali::Pipeline::Init(int, int, int, long, bool, bool, bool, unsigned long, bool, int, int, dali::QueueSizes)+0x65) [0x7f24bce9cc55]\n[frame 3]: /usr/local/lib64/python3.7/site-packages/nvidia/dali/libdali.so(dali::Pipeline::Pipeline(std::string const&, int, int, int, bool, int, bool, unsigned long, bool, int, int)+0x28a) [0x7f24bce953aa]\n[frame 4]: /usr/local/lib64/python3.7/site-packages/nvidia/dali/backend_impl.cpython-37m-x86_64-linux-gnu.so(+0x71d65) [0x7f24dc120d65]\n[frame 5]: /usr/local/lib64/python3.7/site-packages/nvidia/dali/backend_impl.cpython-37m-x86_64-linux-gnu.so(+0x12ce1) [0x7f24dc0c1ce1]\n[frame 6]: /lib64/libpython3.7m.so.1.0(_PyMethodDef_RawFastCallDict+0x22d) [0x7f24f04e20ad]\n[frame 7]: /lib64/libpython3.7m.so.1.0(_PyCFunction_FastCallDict+0x23) [0x7f24f04e2283]\n[frame 8]: /lib64/libpython3.7m.so.1.0(_PyObject_Call_Prepend+0xd4) [0x7f24f04d4fe4]\n[frame 9]: /lib64/libpython3.7m.so.1.0(PyObject_Call+0x7e) [0x7f24f050f20e]\n[frame 10]: /lib64/libpython3.7m.so.1.0(+0x141718) [0x7f24f0520718]\n[frame 11]: /lib64/libpython3.7m.so.1.0(_PyObject_FastCallKeywords+0x117) [0x7f24f05220d7]\n[frame 12]: /lib64/libpython3.7m.so.1.0(+0x144869) [0x7f24f0523869]\n[frame 13]: /lib64/libpython3.7m.so.1.0(_PyEval_EvalFrameDefault+0x58f2) [0x7f24f0573d12]\n[frame 14]: /lib64/libpython3.7m.so.1.0(_PyFunction_FastCallKeywords+0x102) [0x7f24f050e412]\n[frame 15]: /lib64/libpython3.7m.so.1.0(+0x1446df) [0x7f24f05236df]\n[frame 16]: /lib64/libpython3.7m.so.1.0(_PyEval_EvalFrameDefault+0xc0e) [0x7f24f056f02e]\n[frame 17]: /lib64/libpython3.7m.so.1.0(_PyFunction_FastCallKeywords+0x102) [0x7f24f050e412]\n[frame 18]: /lib64/libpython3.7m.so.1.0(+0x1446df) [0x7f24f05236df]\n[frame 19]: /lib64/libpython3.7m.so.1.0(_PyEval_EvalFrameDefault+0xc0e) [0x7f24f056f02e]\n[frame 20]: /lib64/libpython3.7m.so.1.0(_PyEval_EvalCodeWithName+0x2f0) [0x7f24f050d420]\n[frame 21]: /lib64/libpython3.7m.so.1.0(PyEval_EvalCodeEx+0x39) [0x7f24f050e2e9]\n[frame 22]: /lib64/libpython3.7m.so.1.0(PyEval_EvalCode+0x1b) [0x7f24f050e30b]\n[frame 23]: /lib64/libpython3.7m.so.1.0(+0x189934) [0x7f24f0568934]\n[frame 24]: /lib64/libpython3.7m.so.1.0(_PyMethodDef_RawFastCallKeywords+0x78) [0x7f24f04e2458]\n[frame 25]: /lib64/libpython3.7m.so.1.0(_PyCFunction_FastCallKeywords+0x23) [0x7f24f04e2773]\n[frame 26]: /lib64/libpython3.7m.so.1.0(+0x1447f2) [0x7f24f05237f2]\n[frame 27]: /lib64/libpython3.7m.so.1.0(_PyEval_EvalFrameDefault+0xb6a) [0x7f24f056ef8a]\n[frame 28]: /lib64/libpython3.7m.so.1.0(_PyGen_Send+0x13f) [0x7f24f0522c3f]\n[frame 29]: /lib64/libpython3.7m.so.1.0(_PyEval_EvalFrameDefault+0x1e89) [0x7f24f05702a9]\n[frame 30]: /lib64/libpython3.7m.so.1.0(_PyGen_Send+0x13f) [0x7f24f0522c3f]\n[frame 31]: /lib64/libpython3.7m.so.1.0(_PyEval_EvalFrameDefault+0x1e89) [0x7f24f05702a9]\n[frame 32]: /lib64/libpython3.7m.so.1.0(_PyGen_Send+0x13f) [0x7f24f0522c3f]\n[frame 33]: /lib64/libpython3.7m.so.1.0(_PyMethodDef_RawFastCallKeywords+0x163) [0x7f24f04e2543]\n[frame 34]: /lib64/libpython3.7m.so.1.0(_PyMethodDescr_FastCallKeywords+0x4d) [0x7f24f052362d]\n[frame 35]: /lib64/libpython3.7m.so.1.0(+0x1447a0) [0x7f24f05237a0]\n[frame 36]: /lib64/libpython3.7m.so.1.0(_PyEval_EvalFrameDefault+0xc0e) [0x7f24f056f02e]\n[frame 37]: /lib64/libpython3.7m.so.1.0(_PyFunction_FastCallKeywords+0x102) [0x7f24f050e412]\n[frame 38]: /lib64/libpython3.7m.so.1.0(+0x1446df) [0x7f24f05236df]\n[frame 39]: /lib64/libpython3.7m.so.1.0(_PyEval_EvalFrameDefault+0xb6a) [0x7f24f056ef8a]\n[frame 40]: /lib64/libpython3.7m.so.1.0(_PyFunction_FastCallKeywords+0x102) [0x7f24f050e412]\n[frame 41]: /lib64/libpython3.7m.so.1.0(+0x1446df) [0x7f24f05236df]\n[frame 42]: /lib64/libpython3.7m.so.1.0(_PyEval_EvalFrameDefault+0xc0e) [0x7f24f056f02e]\n[frame 43]: /lib64/libpython3.7m.so.1.0(_PyEval_EvalCodeWithName+0x2f0) [0x7f24f050d420]\n[frame 44]: /lib64/libpython3.7m.so.1.0(_PyFunction_FastCallDict+0x2ee) [0x7f24f050ec4e]\n[frame 45]: /lib64/libpython3.7m.so.1.0(_PyObject_Call_Prepend+0x66) [0x7f24f04d4f76]\n[frame 46]: /lib64/libpython3.7m.so.1.0(PyObject_Call+0x7e) [0x7f24f050f20e]\n[frame 47]: /lib64/libpython3.7m.so.1.0(_PyEval_EvalFrameDefault+0x22e0) [0x7f24f0570700]\n[frame 48]: /lib64/libpython3.7m.so.1.0(_PyEval_EvalCodeWithName+0x2f0) [0x7f24f050d420]\n[frame 49]: /lib64/libpython3.7m.so.1.0(_PyFunction_FastCallKeywords+0x2a0) [0x7f24f050e5b0]\n[frame 50]: /lib64/libpython3.7m.so.1.0(+0x1446df) [0x7f24f05236df]\n[frame 51]: /lib64/libpython3.7m.so.1.0(_PyEval_EvalFrameDefault+0x18f9) [0x7f24f056fd19]\n[frame 52]: /lib64/libpython3.7m.so.1.0(+0x143825) [0x7f24f0522825]\n[frame 53]: /lib64/libpython3.7m.so.1.0(+0xfe345) [0x7f24f04dd345]\n[frame 54]: /lib64/libpython3.7m.so.1.0(_PyMethodDef_RawFastCallKeywords+0x78) [0x7f24f04e2458]\n[frame 55]: /lib64/libpython3.7m.so.1.0(_PyCFunction_FastCallKeywords+0x23) [0x7f24f04e2773]\n[frame 56]: /lib64/libpython3.7m.so.1.0(+0x1447f2) [0x7f24f05237f2]\n[frame 57]: /lib64/libpython3.7m.so.1.0(_PyEval_EvalFrameDefault+0xb6a) [0x7f24f056ef8a]\n[frame 58]: /lib64/libpython3.7m.so.1.0(_PyEval_EvalCodeWithName+0x2f0) [0x7f24f050d420]\n[frame 59]: /lib64/libpython3.7m.so.1.0(_PyFunction_FastCallKeywords+0x2a0) [0x7f24f050e5b0]\n[frame 60]: /lib64/libpython3.7m.so.1.0(+0x1446df) [0x7f24f05236df]\n[frame 61]: /lib64/libpython3.7m.so.1.0(_PyEval_EvalFrameDefault+0xc0e) [0x7f24f056f02e]\n[frame 62]: /lib64/libpython3.7m.so.1.0(+0x143825) [0x7f24f0522825]\n[frame 63]: /lib64/libpython3.7m.so.1.0(+0xfe345) [0x7f24f04dd345]\n[frame 64]: /lib64/libpython3.7m.so.1.0(_PyMethodDef_RawFastCallKeywords+0x78) [0x7f24f04e2458]\n[frame 65]: /lib64/libpython3.7m.so.1.0(_PyCFunction_FastCallKeywords+0x23) [0x7f24f04e2773]\n[frame 66]: /lib64/libpython3.7m.so.1.0(+0x1447f2) [0x7f24f05237f2]\n[frame 67]: /lib64/libpython3.7m.so.1.0(_PyEval_EvalFrameDefault+0xb6a) [0x7f24f056ef8a]\n[frame 68]: /lib64/libpython3.7m.so.1.0(_PyEval_EvalCodeWithName+0x2f0) [0x7f24f050d420]\n[frame 69]: /lib64/libpython3.7m.so.1.0(_PyFunction_FastCallKeywords+0x2a0) [0x7f24f050e5b0]\n[frame 70]: /lib64/libpython3.7m.so.1.0(+0x1446df) [0x7f24f05236df]\n[frame 71]: /lib64/libpython3.7m.so.1.0(_PyEval_EvalFrameDefault+0xb6a) [0x7f24f056ef8a]\n[frame 72]: /lib64/libpython3.7m.so.1.0(+0x143825) [0x7f24f0522825]\n[frame 73]: /lib64/libpython3.7m.so.1.0(+0xfe345) [0x7f24f04dd345]\n[frame 74]: /lib64/libpython3.7m.so.1.0(_PyMethodDef_RawFastCallKeywords+0x78) [0x7f24f04e2458]\n[frame 75]: /lib64/libpython3.7m.so.1.0(_PyCFunction_FastCallKeywords+0x23) [0x7f24f04e2773]\n[frame 76]: /lib64/libpython3.7m.so.1.0(+0x1447f2) [0x7f24f05237f2]\n[frame 77]: /lib64/libpython3.7m.so.1.0(_PyEval_EvalFrameDefault+0xb6a) [0x7f24f056ef8a]\n[frame 78]: /lib64/libpython3.7m.so.1.0(_PyEval_EvalCodeWithName+0x2f0) [0x7f24f050d420]\n[frame 79]: /lib64/libpython3.7m.so.1.0(_PyFunction_FastCallDict+0x2ee) [0x7f24f050ec4e]\n[frame 80]: /lib64/libpython3.7m.so.1.0(_PyObject_Call_Prepend+0x66) [0x7f24f04d4f76]\n[frame 81]: /lib64/libpython3.7m.so.1.0(PyObject_Call+0x7e) [0x7f24f050f20e]\n[frame 82]: /lib64/libpython3.7m.so.1.0(_PyEval_EvalFrameDefault+0x22e0) [0x7f24f0570700]\n[frame 83]: /lib64/libpython3.7m.so.1.0(_PyGen_Send+0x13f) [0x7f24f0522c3f]\n[frame 84]: /lib64/libpython3.7m.so.1.0(_PyMethodDef_RawFastCallKeywords+0x163) [0x7f24f04e2543]\n[frame 85]: /lib64/libpython3.7m.so.1.0(_PyMethodDescr_FastCallKeywords+0x4d) [0x7f24f052362d]\n[frame 86]: /lib64/libpython3.7m.so.1.0(+0x1447a0) [0x7f24f05237a0]\n[frame 87]: /lib64/libpython3.7m.so.1.0(_PyEval_EvalFrameDefault+0xc0e) [0x7f24f056f02e]\n[frame 88]: /lib64/libpython3.7m.so.1.0(_PyFunction_FastCallKeywords+0x102) [0x7f24f050e412]\n[frame 89]: /lib64/libpython3.7m.so.1.0(+0x1446df) [0x7f24f05236df]\n[frame 90]: /lib64/libpython3.7m.so.1.0(_PyEval_EvalFrameDefault+0xc0e) [0x7f24f056f02e]\n[frame 91]: /lib64/libpython3.7m.so.1.0(_PyEval_EvalCodeWithName+0x2f0) [0x7f24f050d420]\n[frame 92]: /lib64/libpython3.7m.so.1.0(_PyFunction_FastCallDict+0x2ee) [0x7f24f050ec4e]\n[frame 93]: /lib64/libpython3.7m.so.1.0(+0x206fbd) [0x7f24f05e5fbd]\n[frame 94]: /lib64/libpython3.7m.so.1.0(_PyObject_FastCallKeywords+0x4bc) [0x7f24f052247c]\n[frame 95]: /lib64/libpython3.7m.so.1.0(+0x144869) [0x7f24f0523869]\n[frame 96]: /lib64/libpython3.7m.so.1.0(_PyEval_EvalFrameDefault+0xb6a) [0x7f24f056ef8a]\n[frame 97]: /lib64/libpython3.7m.so.1.0(_PyFunction_FastCallKeywords+0x102) [0x7f24f050e412]\n[frame 98]: /lib64/libpython3.7m.so.1.0(+0x1446df) [0x7f24f05236df]\n[frame 99]: /lib64/libpython3.7m.so.1.0(_PyEval_EvalFrameDefault+0xc0e) [0x7f24f056f02e]\n"
     ]
    }
   ],
   "source": [
    "pipe = SimplePipeline(image_dir, 1, 0)\n",
    "pipe.build()"
   ]
  },
  {
   "cell_type": "code",
   "execution_count": 12,
   "metadata": {},
   "outputs": [],
   "source": [
    "images, labels = pipeline.define_graph()"
   ]
  },
  {
   "cell_type": "code",
   "execution_count": 14,
   "metadata": {},
   "outputs": [
    {
     "ename": "TypeError",
     "evalue": "'EdgeReference' object is not iterable",
     "output_type": "error",
     "traceback": [
      "\u001b[0;31m---------------------------------------------------------------------------\u001b[0m",
      "\u001b[0;31mTypeError\u001b[0m                                 Traceback (most recent call last)",
      "\u001b[0;32m<ipython-input-14-5571fc872fd4>\u001b[0m in \u001b[0;36m<module>\u001b[0;34m\u001b[0m\n\u001b[0;32m----> 1\u001b[0;31m \u001b[0;32mfor\u001b[0m \u001b[0mimage\u001b[0m \u001b[0;32min\u001b[0m \u001b[0mimages\u001b[0m\u001b[0;34m:\u001b[0m\u001b[0;34m\u001b[0m\u001b[0;34m\u001b[0m\u001b[0m\n\u001b[0m\u001b[1;32m      2\u001b[0m     \u001b[0mprint\u001b[0m\u001b[0;34m(\u001b[0m\u001b[0;34m)\u001b[0m\u001b[0;34m\u001b[0m\u001b[0;34m\u001b[0m\u001b[0m\n",
      "\u001b[0;31mTypeError\u001b[0m: 'EdgeReference' object is not iterable"
     ]
    }
   ],
   "source": [
    "for image in images:\n",
    "    print()"
   ]
  },
  {
   "cell_type": "code",
   "execution_count": null,
   "metadata": {},
   "outputs": [],
   "source": []
  }
 ],
 "metadata": {
  "kernelspec": {
   "display_name": "Python 3",
   "language": "python",
   "name": "python3"
  },
  "language_info": {
   "codemirror_mode": {
    "name": "ipython",
    "version": 3
   },
   "file_extension": ".py",
   "mimetype": "text/x-python",
   "name": "python",
   "nbconvert_exporter": "python",
   "pygments_lexer": "ipython3",
   "version": "3.7.3"
  }
 },
 "nbformat": 4,
 "nbformat_minor": 2
}
